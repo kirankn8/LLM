{
 "cells": [
  {
   "cell_type": "code",
   "execution_count": 1,
   "id": "d2a15352",
   "metadata": {},
   "outputs": [
    {
     "name": "stdout",
     "output_type": "stream",
     "text": [
      "Parameter containing:\n",
      "tensor([[ 0.3374, -0.1778, -0.1690],\n",
      "        [ 0.9178,  1.5810,  1.3010],\n",
      "        [ 1.2753, -0.2010, -0.1606],\n",
      "        [-0.4015,  0.9666, -1.1481],\n",
      "        [-1.1589,  0.3255, -0.6315],\n",
      "        [-2.8400, -0.7849, -1.4096]], requires_grad=True)\n"
     ]
    }
   ],
   "source": [
    "# sample empeddings with pytorch\n",
    "\n",
    "import torch\n",
    "import torch.nn as nn\n",
    "import torch.optim as optim\n",
    "\n",
    "\n",
    "\n",
    "# lets say you have input [2,3,1]\n",
    "# 2 can be represent as one hot encoding [0,1,0,0,0,0]\n",
    "# 3 can be represent as one hot encoding [0,0,1,0,0,0]\n",
    "# 1 can be represent as one hot encoding [1,0,0,0,0,0]\n",
    "\n",
    "# so the input can be represent as [[0,1,0,0,0,0], [0,0,1,0,0,0], [1,0,0,0,0,0]]\n",
    "# vector_size = 6\n",
    "\n",
    "\n",
    "vector_size = 6 \n",
    "output_dim = 3\n",
    "\n",
    "# manual seed\n",
    "torch.manual_seed(123)\n",
    "\n",
    "# embeddings\n",
    "embedding_layer = nn.Embedding(vector_size, output_dim)\n",
    "\n",
    "# print the embedding layer\n",
    "print(embedding_layer.weight)\n"
   ]
  },
  {
   "cell_type": "code",
   "execution_count": 2,
   "id": "e54c07ed",
   "metadata": {},
   "outputs": [
    {
     "name": "stdout",
     "output_type": "stream",
     "text": [
      "tensor([[-0.4015,  0.9666, -1.1481],\n",
      "        [ 0.3374, -0.1778, -0.1690],\n",
      "        [ 0.9178,  1.5810,  1.3010]], grad_fn=<EmbeddingBackward0>)\n"
     ]
    }
   ],
   "source": [
    "# get embedding layer for id 3 \n",
    "print(embedding_layer(torch.tensor([3,0,1])))"
   ]
  },
  {
   "cell_type": "code",
   "execution_count": 3,
   "id": "57f0ec4e",
   "metadata": {},
   "outputs": [
    {
     "name": "stdout",
     "output_type": "stream",
     "text": [
      "first 99 characters of raw_text: I HAD always thought Jack Gisburn rather a cheap genius--though a good fellow enough--so it was no \n",
      "Length of raw_text: 20479\n"
     ]
    }
   ],
   "source": [
    "with open(\"the-verdict.txt\") as f:\n",
    "    raw_text = f.read()\n",
    "\n",
    "print(\"first 99 characters of raw_text:\", raw_text[:99])\n",
    "# print length of raw_text\n",
    "print(\"Length of raw_text:\", len(raw_text))"
   ]
  },
  {
   "cell_type": "code",
   "execution_count": 7,
   "id": "eb74e9ea",
   "metadata": {},
   "outputs": [
    {
     "name": "stdout",
     "output_type": "stream",
     "text": [
      "input_ids:\n",
      " tensor([[   40,   367,  2885,  1464],\n",
      "        [ 1807,  3619,   402,   271],\n",
      "        [10899,  2138,   257,  7026],\n",
      "        [15632,   438,  2016,   257],\n",
      "        [  922,  5891,  1576,   438],\n",
      "        [  568,   340,   373,   645],\n",
      "        [ 1049,  5975,   284,   502],\n",
      "        [  284,  3285,   326,    11]])\n",
      "input_ids shape: torch.Size([8, 4])\n",
      "input_ids shape from dataloader: torch.Size([8, 4])\n",
      "input_ids values:\n",
      " tensor([[   40,   367,  2885,  1464],\n",
      "        [ 1807,  3619,   402,   271],\n",
      "        [10899,  2138,   257,  7026],\n",
      "        [15632,   438,  2016,   257],\n",
      "        [  922,  5891,  1576,   438],\n",
      "        [  568,   340,   373,   645],\n",
      "        [ 1049,  5975,   284,   502],\n",
      "        [  284,  3285,   326,    11]])\n",
      "token_embedding_layer shape: torch.Size([50257, 256])\n",
      "output shape: torch.Size([8, 4, 256])\n",
      "positional_embedding shape: torch.Size([4, 256])\n",
      "input_embeedings shape: torch.Size([8, 4, 256])\n"
     ]
    }
   ],
   "source": [
    "import tiktoken\n",
    "from torch.utils.data import Dataset, DataLoader\n",
    "\n",
    "class SimpleTokenizerV2:\n",
    "    def __init__(self):\n",
    "        self.tokenizer = tiktoken.get_encoding(\"gpt2\")\n",
    "\n",
    "    def encode(self, text):\n",
    "        return self.tokenizer.encode(text, allowed_special={\"<|endoftext|>\"})\n",
    "    \n",
    "    def decode(self, tokens):\n",
    "        return self.tokenizer.decode(tokens)\n",
    "\n",
    "\n",
    "class InputTargetDataset(Dataset):\n",
    "    def __init__(self, text, tokenizer, context_size, stride_length):\n",
    "        self.tokenizer = tokenizer\n",
    "        self.context_size = context_size\n",
    "        self.stride_length = stride_length\n",
    "\n",
    "        self.input_ids = []\n",
    "        self.target_ids = []\n",
    "\n",
    "        tokens = self.tokenizer.encode(text)\n",
    "\n",
    "        for i in range(0, len(tokens) - self.context_size, self.stride_length):\n",
    "            context = tokens[i:i+self.context_size]\n",
    "            target = tokens[i+1:i+self.context_size+1]  \n",
    "            self.input_ids.append(torch.tensor(context))\n",
    "            self.target_ids.append(torch.tensor(target))\n",
    "\n",
    "\n",
    "    def __len__(self):\n",
    "        return len(self.input_ids)\n",
    "\n",
    "    def __getitem__(self, idx):\n",
    "        # i am returning a tensor here!!!\n",
    "        context = self.input_ids[idx]\n",
    "        target = self.target_ids[idx]\n",
    "        return context, target\n",
    "\n",
    "\n",
    "def create_dataloader(text, batch_size=4, context_size=256, stride_length=128, shuffle=True, drop_last=True, num_workers=0):\n",
    "    dataset = InputTargetDataset(text, SimpleTokenizerV2(), context_size, stride_length)\n",
    "\n",
    "    dataloader = DataLoader(\n",
    "        dataset, \n",
    "        batch_size=batch_size, \n",
    "        shuffle=shuffle, \n",
    "        drop_last=drop_last, \n",
    "        num_workers=num_workers)\n",
    "    return dataloader\n",
    "\n",
    "context_size = 4\n",
    "dataloader = create_dataloader(raw_text, batch_size=8, context_size=context_size, stride_length=context_size, shuffle=False, drop_last=True, num_workers=0)\n",
    "\n",
    "iterator = iter(dataloader)\n",
    "input_ids, target_ids = next(iterator)\n",
    "\n",
    "\n",
    "print(\"input_ids:\\n\", input_ids)\n",
    "# shape\n",
    "print(\"input_ids shape:\", input_ids.shape)\n",
    "\n",
    "\n",
    "print(\"input_ids shape from dataloader:\", input_ids.shape)\n",
    "print(\"input_ids values:\\n\", input_ids)\n",
    "\n",
    "vector_size = 50257\n",
    "output_dim = 256\n",
    "token_embedding_layer = nn.Embedding(vector_size, output_dim)\n",
    "print(\"token_embedding_layer shape:\", token_embedding_layer.weight.shape)\n",
    "\n",
    "# token embedding of input \n",
    "output = token_embedding_layer(input_ids)\n",
    "print(\"output shape:\", output.shape)\n",
    "\n",
    "\n",
    "\n",
    "# create positional embedding \n",
    "positional_embedding_layer = nn.Embedding(context_size, output_dim)\n",
    "\n",
    "# get positional embedding \n",
    "positional_embedding = positional_embedding_layer(torch.arange(context_size))\n",
    "print(\"positional_embedding shape:\", positional_embedding.shape)\n",
    "\n",
    "# with broadcast operation additon is supported\n",
    "input_embeddings = output + positional_embedding\n",
    "print(\"input_embeedings shape:\", input_embeddings.shape)\n",
    "\n",
    "\n",
    "\n"
   ]
  },
  {
   "cell_type": "code",
   "execution_count": null,
   "id": "d7e3b9b8",
   "metadata": {},
   "outputs": [],
   "source": []
  }
 ],
 "metadata": {
  "kernelspec": {
   "display_name": "base",
   "language": "python",
   "name": "python3"
  },
  "language_info": {
   "codemirror_mode": {
    "name": "ipython",
    "version": 3
   },
   "file_extension": ".py",
   "mimetype": "text/x-python",
   "name": "python",
   "nbconvert_exporter": "python",
   "pygments_lexer": "ipython3",
   "version": "3.12.7"
  }
 },
 "nbformat": 4,
 "nbformat_minor": 5
}

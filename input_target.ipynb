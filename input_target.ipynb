{
 "cells": [
  {
   "cell_type": "code",
   "execution_count": 1,
   "id": "47a28c46",
   "metadata": {},
   "outputs": [
    {
     "name": "stdout",
     "output_type": "stream",
     "text": [
      "first 99 characters of raw_text: I HAD always thought Jack Gisburn rather a cheap genius--though a good fellow enough--so it was no \n",
      "Length of raw_text: 20479\n"
     ]
    }
   ],
   "source": [
    "with open(\"the-verdict.txt\") as f:\n",
    "    raw_text = f.read()\n",
    "\n",
    "print(\"first 99 characters of raw_text:\", raw_text[:99])\n",
    "# print length of raw_text\n",
    "print(\"Length of raw_text:\", len(raw_text))"
   ]
  },
  {
   "cell_type": "code",
   "execution_count": 2,
   "id": "169e65a1",
   "metadata": {},
   "outputs": [
    {
     "name": "stdout",
     "output_type": "stream",
     "text": [
      "tokenizer.encode(test_sentence): [40, 1053, 23748, 12036, 661, 836, 470, 264, 42012, 326, 3404, 546, 502, 438, 9930, 910, 340, 546, 12622, 41379, 293, 479, 343, 272, 11, 10662, 86, 69, 80, 86, 69, 80, 732, 69, 20306, 303, 732, 1]\n",
      "tokenizer.decode(tokenizer.encode(test_sentence)): I've hello painting people don't sAy that stuff about me--they say it about Victor Grindle kiran, qwfqwfqwefvdvewe\"\n"
     ]
    }
   ],
   "source": [
    "import tiktoken\n",
    "\n",
    "class SimpleTokenizerV2:\n",
    "    def __init__(self):\n",
    "        self.tokenizer = tiktoken.get_encoding(\"gpt2\")\n",
    "\n",
    "    def encode(self, text):\n",
    "        return self.tokenizer.encode(text, allowed_special={\"<|endoftext|>\"})\n",
    "    \n",
    "    def decode(self, tokens):\n",
    "        return self.tokenizer.decode(tokens)\n",
    "\n",
    "\n",
    "\n",
    "tokenizer = SimpleTokenizerV2()\n",
    "\n",
    "# test the tokenizer\n",
    "test_sentence = \"I've hello painting people don't sAy that stuff about me--they say it about Victor Grindle kiran, qwfqwfqwefvdvewe\\\"\"\n",
    "\n",
    "print(\"tokenizer.encode(test_sentence):\", tokenizer.encode(test_sentence))\n",
    "print(\"tokenizer.decode(tokenizer.encode(test_sentence)):\", tokenizer.decode(tokenizer.encode(test_sentence)))\n",
    "\n"
   ]
  },
  {
   "cell_type": "code",
   "execution_count": 3,
   "id": "51908c3d",
   "metadata": {},
   "outputs": [
    {
     "name": "stdout",
     "output_type": "stream",
     "text": [
      "Length of encoded_text: 5145\n",
      "First 100 characters of encoded_text: [40, 367, 2885, 1464, 1807, 3619, 402, 271, 10899, 2138, 257, 7026, 15632, 438, 2016, 257, 922, 5891, 1576, 438, 568, 340, 373, 645, 1049, 5975, 284, 502, 284, 3285, 326, 11, 287, 262, 6001, 286, 465, 13476, 11, 339, 550, 5710, 465, 12036, 11, 6405, 257, 5527, 27075, 11, 290, 4920, 2241, 287, 257, 4489, 64, 319, 262, 34686, 41976, 13, 357, 10915, 314, 2138, 1807, 340, 561, 423, 587, 10598, 393, 28537, 2014, 198, 198, 1, 464, 6001, 286, 465, 13476, 1, 438, 5562, 373, 644, 262, 1466, 1444, 340, 13, 314, 460, 3285, 9074, 13, 46606, 536]\n"
     ]
    }
   ],
   "source": [
    "# check if raw_text is encoded correctly\n",
    "encoded_text = tokenizer.encode(raw_text)\n",
    "\n",
    "# print length of encoded_text\n",
    "print(\"Length of encoded_text:\", len(encoded_text))\n",
    "\n",
    "# print first 100 characters of encoded_text\n",
    "print(\"First 100 characters of encoded_text:\", encoded_text[:100])\n",
    "\n",
    "\n"
   ]
  },
  {
   "cell_type": "code",
   "execution_count": 4,
   "id": "f6820ae4",
   "metadata": {},
   "outputs": [
    {
     "name": "stdout",
     "output_type": "stream",
     "text": [
      "Context: [40], Target: 367\n",
      "Decoded Context: I, Decoded Target:  H\n",
      "Context: [40, 367], Target: 2885\n",
      "Decoded Context: I H, Decoded Target: AD\n",
      "Context: [40, 367, 2885], Target: 1464\n",
      "Decoded Context: I HAD, Decoded Target:  always\n",
      "Context: [40, 367, 2885, 1464], Target: 1807\n",
      "Decoded Context: I HAD always, Decoded Target:  thought\n"
     ]
    }
   ],
   "source": [
    "# create input target pairs\n",
    "context_size = 4\n",
    "\n",
    "for i in range(1, context_size+1):\n",
    "    context = encoded_text[:i]\n",
    "    target = encoded_text[i]\n",
    "    print(f\"Context: {context}, Target: {target}\")\n",
    "     # print decoded context and target\n",
    "    print(f\"Decoded Context: {tokenizer.decode(context)}, Decoded Target: {tokenizer.decode([target])}\")\n"
   ]
  },
  {
   "cell_type": "code",
   "execution_count": 5,
   "id": "6eb45587",
   "metadata": {},
   "outputs": [],
   "source": [
    "# # do for entire text\n",
    "# for i in range(1, len(encoded_text)):\n",
    "#     context = encoded_text[:i]\n",
    "#     target = encoded_text[i]\n",
    "#     print(f\"Context: {context}, Target: {target}\")\n",
    "\n"
   ]
  },
  {
   "cell_type": "code",
   "execution_count": 6,
   "id": "7965d930",
   "metadata": {},
   "outputs": [
    {
     "name": "stdout",
     "output_type": "stream",
     "text": [
      "Requirement already satisfied: torch in /opt/homebrew/anaconda3/lib/python3.12/site-packages (2.8.0)\n",
      "Requirement already satisfied: filelock in /opt/homebrew/anaconda3/lib/python3.12/site-packages (from torch) (3.13.1)\n",
      "Requirement already satisfied: typing-extensions>=4.10.0 in /opt/homebrew/anaconda3/lib/python3.12/site-packages (from torch) (4.11.0)\n",
      "Requirement already satisfied: setuptools in /opt/homebrew/anaconda3/lib/python3.12/site-packages (from torch) (75.1.0)\n",
      "Requirement already satisfied: sympy>=1.13.3 in /opt/homebrew/anaconda3/lib/python3.12/site-packages (from torch) (1.14.0)\n",
      "Requirement already satisfied: networkx in /opt/homebrew/anaconda3/lib/python3.12/site-packages (from torch) (3.3)\n",
      "Requirement already satisfied: jinja2 in /opt/homebrew/anaconda3/lib/python3.12/site-packages (from torch) (3.1.4)\n",
      "Requirement already satisfied: fsspec in /opt/homebrew/anaconda3/lib/python3.12/site-packages (from torch) (2024.6.1)\n",
      "Requirement already satisfied: mpmath<1.4,>=1.1.0 in /opt/homebrew/anaconda3/lib/python3.12/site-packages (from sympy>=1.13.3->torch) (1.3.0)\n",
      "Requirement already satisfied: MarkupSafe>=2.0 in /opt/homebrew/anaconda3/lib/python3.12/site-packages (from jinja2->torch) (2.1.3)\n"
     ]
    }
   ],
   "source": [
    "!pip install torch"
   ]
  },
  {
   "cell_type": "code",
   "execution_count": null,
   "id": "47d5f818",
   "metadata": {},
   "outputs": [],
   "source": [
    "# create a pytorch dataset and dataloader\n",
    "import torch\n",
    "from torch.utils.data import Dataset, DataLoader\n",
    "\n",
    "class InputTargetDataset(Dataset):\n",
    "    def __init__(self, text, tokenizer, context_size, stride_length):\n",
    "        self.tokenizer = tokenizer\n",
    "        self.context_size = context_size\n",
    "        self.stride_length = stride_length\n",
    "\n",
    "        self.input_ids = []\n",
    "        self.target_ids = []\n",
    "\n",
    "        tokens = self.tokenizer.encode(text)\n",
    "\n",
    "        for i in range(0, len(tokens) - self.context_size, self.stride_length):\n",
    "            context = tokens[i:i+self.context_size]\n",
    "            target = tokens[i+1:i+self.context_size+1]\n",
    "            self.input_ids.append(torch.tensor(context))\n",
    "            self.target_ids.append(torch.tensor(target))\n",
    "\n",
    "\n",
    "    def __len__(self):\n",
    "        return len(self.input_ids)\n",
    "\n",
    "    def __getitem__(self, idx):\n",
    "        # i am returning a tensor here!!!\n",
    "        context = self.input_ids[idx]\n",
    "        target = self.target_ids[idx]\n",
    "        return context, target\n"
   ]
  },
  {
   "cell_type": "code",
   "execution_count": 12,
   "id": "d2a8843b",
   "metadata": {},
   "outputs": [
    {
     "name": "stdout",
     "output_type": "stream",
     "text": [
      "input_ids:\n",
      " tensor([[  40,  367, 2885, 1464],\n",
      "        [1807, 3619,  402,  271]])\n",
      "\n",
      "target_ids:\n",
      " tensor([[  367,  2885,  1464,  1807],\n",
      "        [ 3619,   402,   271, 10899]])\n"
     ]
    }
   ],
   "source": [
    "# create a dataloader\n",
    "\n",
    "def create_dataloader(text, batch_size=4, context_size=256, stride_length=128, shuffle=True, drop_last=True, num_workers=0):\n",
    "    dataset = InputTargetDataset(text, SimpleTokenizerV2(), context_size, stride_length)\n",
    "\n",
    "    dataloader = DataLoader(\n",
    "        dataset, \n",
    "        batch_size=batch_size, \n",
    "        shuffle=shuffle, \n",
    "        drop_last=drop_last, \n",
    "        num_workers=num_workers)\n",
    "    return dataloader\n",
    "\n",
    "\n",
    "dataloader = create_dataloader(raw_text, batch_size=2, context_size=4, stride_length=4, shuffle=False, drop_last=True, num_workers=0)\n",
    "\n",
    "\n",
    "data_iter = iter(dataloader)\n",
    "input_ids, target_ids = next(data_iter)\n",
    "\n",
    "print(\"input_ids:\\n\", input_ids)\n",
    "print(\"\\ntarget_ids:\\n\", target_ids)\n",
    "\n",
    "\n",
    "\n",
    "\n",
    "\n"
   ]
  }
 ],
 "metadata": {
  "kernelspec": {
   "display_name": "base",
   "language": "python",
   "name": "python3"
  },
  "language_info": {
   "codemirror_mode": {
    "name": "ipython",
    "version": 3
   },
   "file_extension": ".py",
   "mimetype": "text/x-python",
   "name": "python",
   "nbconvert_exporter": "python",
   "pygments_lexer": "ipython3",
   "version": "3.12.7"
  }
 },
 "nbformat": 4,
 "nbformat_minor": 5
}

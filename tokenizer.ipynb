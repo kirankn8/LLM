{
 "cells": [
  {
   "cell_type": "code",
   "execution_count": 1,
   "id": "94ffe12c",
   "metadata": {},
   "outputs": [
    {
     "name": "stdout",
     "output_type": "stream",
     "text": [
      "first 99 characters of raw_text: I HAD always thought Jack Gisburn rather a cheap genius--though a good fellow enough--so it was no \n",
      "Length of raw_text: 20479\n"
     ]
    }
   ],
   "source": [
    "with open(\"the-verdict.txt\") as f:\n",
    "    raw_text = f.read()\n",
    "\n",
    "print(\"first 99 characters of raw_text:\", raw_text[:99])\n",
    "# print length of raw_text\n",
    "print(\"Length of raw_text:\", len(raw_text))\n",
    "\n"
   ]
  },
  {
   "cell_type": "code",
   "execution_count": 2,
   "id": "601ac3ea",
   "metadata": {},
   "outputs": [
    {
     "name": "stdout",
     "output_type": "stream",
     "text": [
      "first 10 tokens: ['I', 'HAD', 'always', 'thought', 'Jack', 'Gisburn', 'rather', 'a', 'cheap', 'genius', '-', '-', 'though', 'a', 'good', 'fellow', 'enough', '-', '-', 'so', 'it', 'was', 'no', 'great', 'surprise', 'to', 'me', 'to', 'hear', 'that', ',', 'in', 'the', 'height', 'of', 'his', 'glory', ',', 'he', 'had', 'dropped', 'his', 'painting', ',', 'married', 'a', 'rich', 'widow', ',', 'and', 'established', 'himself', 'in', 'a', 'villa', 'on', 'the', 'Riviera', '.', '(', 'Though', 'I', 'rather', 'thought', 'it', 'would', 'have', 'been', 'Rome', 'or', 'Florence', '.', ')', '\"', 'The', 'height', 'of', 'his', 'glory', '\"', '-', '-', 'that', 'was', 'what', 'the', 'women', 'called', 'it', '.', 'I', 'can', 'hear', 'Mrs', '.', 'Gideon', 'Thwing', '-', '-', 'his']\n",
      "Length of tokens: 4827\n"
     ]
    }
   ],
   "source": [
    "# split raw_text into tokens using regex\n",
    "import regex as re\n",
    "\n",
    "# split tokens with punctuations\n",
    "tokens = re.findall(r'\\b\\w+\\b|[^\\w\\s]', raw_text, re.UNICODE)   \n",
    "# tokens = re.findall(r'\\b\\w+\\b', raw_text)\n",
    "\n",
    "print(\"first 10 tokens:\", tokens[:100])\n",
    "print(\"Length of tokens:\", len(tokens))\n",
    "\n"
   ]
  },
  {
   "cell_type": "code",
   "execution_count": 3,
   "id": "faa3431a",
   "metadata": {},
   "outputs": [
    {
     "name": "stdout",
     "output_type": "stream",
     "text": [
      "first 10 tokens: ['!', '\"', \"'\", '(', ')', ',', '-', '.', ':', ';', '?', 'A', 'Ah', 'Among', 'And', 'Are', 'Arrt', 'As', 'At', 'Be', 'Begin', 'Burlington', 'But', 'By', 'Carlo', 'Chicago', 'Claude', 'Come', 'Croft', 'Destroyed', 'Devonshire', 'Don', 'Dubarry_', 'Emperors', 'Florence', 'For', 'Gallery', 'Gideon', 'Gisburn', 'Gisburns', 'Grafton', 'Greek', 'Grindle', 'Grindles', 'HAD', 'Had', 'Hang', 'Has', 'He', 'Her', 'Hermia', 'His', 'How', 'I', 'If', 'In', 'It', 'Jack', 'Jove', 'Just', 'Lord', 'Made', 'Miss', 'Money', 'Monte', 'Moon', 'Mr', 'Mrs', 'My', 'Never', 'No', 'Now', 'Nutley', 'Of', 'Oh', 'On', 'Once', 'Only', 'Or', 'Perhaps', 'Poor', 'Professional', 'Renaissance', 'Rickham', 'Riviera', 'Rome', 'Russian', 'Sevres', 'She', 'Stroud', 'Strouds', 'Suddenly', 'That', 'The', 'Then', 'There', 'They', 'This', 'Those', 'Though']\n",
      "Length of tokens: 1150\n"
     ]
    }
   ],
   "source": [
    "# sort in alphabetical order\n",
    "# only unique tokens\n",
    "tokens = list(set(tokens))\n",
    "\n",
    "tokens.sort()\n",
    "\n",
    "# add endoftext token\n",
    "tokens.append(\"<|endoftext|>\")\n",
    "# add unknown token\n",
    "tokens.append(\"<|unk|>\")\n",
    "\n",
    "print(\"first 10 tokens:\", tokens[:100])\n",
    "print(\"Length of tokens:\", len(tokens))"
   ]
  },
  {
   "cell_type": "code",
   "execution_count": 4,
   "id": "865f4865",
   "metadata": {},
   "outputs": [
    {
     "name": "stdout",
     "output_type": "stream",
     "text": [
      "vocab: {'!': 0, '\"': 1, \"'\": 2, '(': 3, ')': 4, ',': 5, '-': 6, '.': 7, ':': 8, ';': 9, '?': 10, 'A': 11, 'Ah': 12, 'Among': 13, 'And': 14, 'Are': 15, 'Arrt': 16, 'As': 17, 'At': 18, 'Be': 19, 'Begin': 20, 'Burlington': 21, 'But': 22, 'By': 23, 'Carlo': 24, 'Chicago': 25, 'Claude': 26, 'Come': 27, 'Croft': 28, 'Destroyed': 29, 'Devonshire': 30, 'Don': 31, 'Dubarry_': 32, 'Emperors': 33, 'Florence': 34, 'For': 35, 'Gallery': 36, 'Gideon': 37, 'Gisburn': 38, 'Gisburns': 39, 'Grafton': 40, 'Greek': 41, 'Grindle': 42, 'Grindles': 43, 'HAD': 44, 'Had': 45, 'Hang': 46, 'Has': 47, 'He': 48, 'Her': 49, 'Hermia': 50, 'His': 51, 'How': 52, 'I': 53, 'If': 54, 'In': 55, 'It': 56, 'Jack': 57, 'Jove': 58, 'Just': 59, 'Lord': 60, 'Made': 61, 'Miss': 62, 'Money': 63, 'Monte': 64, 'Moon': 65, 'Mr': 66, 'Mrs': 67, 'My': 68, 'Never': 69, 'No': 70, 'Now': 71, 'Nutley': 72, 'Of': 73, 'Oh': 74, 'On': 75, 'Once': 76, 'Only': 77, 'Or': 78, 'Perhaps': 79, 'Poor': 80, 'Professional': 81, 'Renaissance': 82, 'Rickham': 83, 'Riviera': 84, 'Rome': 85, 'Russian': 86, 'Sevres': 87, 'She': 88, 'Stroud': 89, 'Strouds': 90, 'Suddenly': 91, 'That': 92, 'The': 93, 'Then': 94, 'There': 95, 'They': 96, 'This': 97, 'Those': 98, 'Though': 99, 'Thwing': 100, 'Thwings': 101, 'To': 102, 'Usually': 103, 'Venetian': 104, 'Victor': 105, 'Was': 106, 'We': 107, 'Well': 108, 'What': 109, 'When': 110, 'Why': 111, 'Yes': 112, 'You': 113, '_I': 114, '_am_': 115, '_famille': 116, '_felt_': 117, '_has_': 118, '_have_': 119, '_jardiniere_': 120, '_mine_': 121, '_not_': 122, '_rose': 123, '_rs_': 124, '_that_': 125, '_the_': 126, '_was_': 127, '_were_': 128, 'a': 129, 'abdication': 130, 'able': 131, 'about': 132, 'above': 133, 'abruptly': 134, 'absolute': 135, 'absorbed': 136, 'absurdity': 137, 'academic': 138, 'accuse': 139, 'accustomed': 140, 'across': 141, 'activity': 142, 'add': 143, 'added': 144, 'admirers': 145, 'adopted': 146, 'adulation': 147, 'advance': 148, 'aesthetic': 149, 'affect': 150, 'afraid': 151, 'after': 152, 'afterward': 153, 'again': 154, 'ago': 155, 'ah': 156, 'air': 157, 'alive': 158, 'all': 159, 'almost': 160, 'alone': 161, 'along': 162, 'always': 163, 'amazement': 164, 'amid': 165, 'among': 166, 'amplest': 167, 'amusing': 168, 'an': 169, 'and': 170, 'another': 171, 'answer': 172, 'answered': 173, 'any': 174, 'anything': 175, 'anywhere': 176, 'apparent': 177, 'apparently': 178, 'appearance': 179, 'appeared': 180, 'appointed': 181, 'are': 182, 'arm': 183, 'arms': 184, 'art': 185, 'articles': 186, 'artist': 187, 'as': 188, 'aside': 189, 'asked': 190, 'at': 191, 'atmosphere': 192, 'atom': 193, 'attack': 194, 'attention': 195, 'attitude': 196, 'audacities': 197, 'away': 198, 'awful': 199, 'axioms': 200, 'azaleas': 201, 'back': 202, 'background': 203, 'balance': 204, 'balancing': 205, 'balustraded': 206, 'basking': 207, 'bath': 208, 'be': 209, 'beaming': 210, 'bean': 211, 'bear': 212, 'beard': 213, 'beauty': 214, 'became': 215, 'because': 216, 'becoming': 217, 'bed': 218, 'been': 219, 'before': 220, 'began': 221, 'begun': 222, 'behind': 223, 'being': 224, 'believed': 225, 'beneath': 226, 'bespoke': 227, 'better': 228, 'between': 229, 'big': 230, 'bits': 231, 'bitterness': 232, 'blocked': 233, 'born': 234, 'borne': 235, 'boudoir': 236, 'brac': 237, 'bravura': 238, 'break': 239, 'breaking': 240, 'breathing': 241, 'breeding': 242, 'bric': 243, 'briefly': 244, 'brings': 245, 'bronzes': 246, 'brought': 247, 'brown': 248, 'brush': 249, 'bull': 250, 'business': 251, 'but': 252, 'buying': 253, 'by': 254, 'called': 255, 'came': 256, 'can': 257, 'canvas': 258, 'canvases': 259, 'cards': 260, 'care': 261, 'career': 262, 'caught': 263, 'central': 264, 'century': 265, 'chair': 266, 'chairs': 267, 'chap': 268, 'characteristic': 269, 'charming': 270, 'cheap': 271, 'check': 272, 'cheeks': 273, 'chest': 274, 'chimney': 275, 'chucked': 276, 'cigar': 277, 'cigarette': 278, 'cigars': 279, 'circulation': 280, 'circumstance': 281, 'circus': 282, 'claimed': 283, 'clasping': 284, 'clear': 285, 'cleverer': 286, 'close': 287, 'closets': 288, 'clown': 289, 'clue': 290, 'coat': 291, 'collapsed': 292, 'colour': 293, 'come': 294, 'comfortable': 295, 'coming': 296, 'companion': 297, 'compared': 298, 'complex': 299, 'confident': 300, 'congesting': 301, 'conjugal': 302, 'constraint': 303, 'consummate': 304, 'contended': 305, 'continued': 306, 'corner': 307, 'corrected': 308, 'cotta': 309, 'could': 310, 'couldn': 311, 'count': 312, 'countenance': 313, 'couple': 314, 'course': 315, 'covered': 316, 'craft': 317, 'cried': 318, 'crossed': 319, 'crowned': 320, 'crumbled': 321, 'cry': 322, 'cured': 323, 'curiosity': 324, 'curious': 325, 'current': 326, 'curtains': 327, 'd': 328, 'dabble': 329, 'damask': 330, 'dancers': 331, 'dark': 332, 'dashed': 333, 'day': 334, 'days': 335, 'dead': 336, 'deadening': 337, 'dear': 338, 'deep': 339, 'deerhound': 340, 'degree': 341, 'delicate': 342, 'demand': 343, 'denied': 344, 'deploring': 345, 'deprecating': 346, 'deprecatingly': 347, 'desire': 348, 'destroyed': 349, 'destruction': 350, 'desultory': 351, 'detail': 352, 'diagnosis': 353, 'did': 354, 'didn': 355, 'died': 356, 'dim': 357, 'dimmest': 358, 'dingy': 359, 'dining': 360, 'disarming': 361, 'discovery': 362, 'discrimination': 363, 'discussion': 364, 'disdain': 365, 'disdained': 366, 'disease': 367, 'disguised': 368, 'display': 369, 'dissatisfied': 370, 'distinguished': 371, 'distract': 372, 'divert': 373, 'do': 374, 'doesn': 375, 'doing': 376, 'domestic': 377, 'don': 378, 'done': 379, 'donkey': 380, 'down': 381, 'dozen': 382, 'dragged': 383, 'drawing': 384, 'drawn': 385, 'dress': 386, 'drew': 387, 'dropped': 388, 'each': 389, 'earth': 390, 'ease': 391, 'easel': 392, 'easy': 393, 'echoed': 394, 'economy': 395, 'effect': 396, 'effects': 397, 'efforts': 398, 'egregious': 399, 'eighteenth': 400, 'elbow': 401, 'elegant': 402, 'else': 403, 'embarrassed': 404, 'enabled': 405, 'end': 406, 'endless': 407, 'enjoy': 408, 'enlightenment': 409, 'enough': 410, 'ensuing': 411, 'equally': 412, 'equanimity': 413, 'escape': 414, 'established': 415, 'etching': 416, 'even': 417, 'event': 418, 'ever': 419, 'everlasting': 420, 'every': 421, 'exasperated': 422, 'except': 423, 'excuse': 424, 'excusing': 425, 'existed': 426, 'expected': 427, 'exquisite': 428, 'exquisitely': 429, 'extenuation': 430, 'exterminating': 431, 'extracting': 432, 'eye': 433, 'eyebrows': 434, 'eyes': 435, 'face': 436, 'faces': 437, 'fact': 438, 'faded': 439, 'failed': 440, 'failure': 441, 'fair': 442, 'faith': 443, 'false': 444, 'familiar': 445, 'fancy': 446, 'fashionable': 447, 'fate': 448, 'feather': 449, 'feet': 450, 'fell': 451, 'fellow': 452, 'felt': 453, 'few': 454, 'fewer': 455, 'finality': 456, 'find': 457, 'fingers': 458, 'first': 459, 'fit': 460, 'fitting': 461, 'five': 462, 'flash': 463, 'flashed': 464, 'florid': 465, 'flowers': 466, 'fluently': 467, 'flung': 468, 'follow': 469, 'followed': 470, 'fond': 471, 'footstep': 472, 'for': 473, 'forced': 474, 'forcing': 475, 'forehead': 476, 'foreign': 477, 'foreseen': 478, 'forgive': 479, 'forgotten': 480, 'form': 481, 'formed': 482, 'forming': 483, 'forward': 484, 'fostered': 485, 'found': 486, 'foundations': 487, 'four': 488, 'fragment': 489, 'fragments': 490, 'frame': 491, 'frames': 492, 'frequently': 493, 'friend': 494, 'from': 495, 'full': 496, 'fullest': 497, 'furiously': 498, 'furrowed': 499, 'garlanded': 500, 'garlands': 501, 'gave': 502, 'genial': 503, 'genius': 504, 'gesture': 505, 'get': 506, 'getting': 507, 'give': 508, 'given': 509, 'glad': 510, 'glanced': 511, 'glimpse': 512, 'gloried': 513, 'glory': 514, 'go': 515, 'going': 516, 'gone': 517, 'good': 518, 'got': 519, 'grace': 520, 'gradually': 521, 'gray': 522, 'grayish': 523, 'great': 524, 'greatest': 525, 'greatness': 526, 'grew': 527, 'groping': 528, 'growing': 529, 'had': 530, 'hadn': 531, 'hair': 532, 'half': 533, 'hall': 534, 'hand': 535, 'hands': 536, 'handsome': 537, 'hanging': 538, 'happen': 539, 'happened': 540, 'hard': 541, 'hardly': 542, 'have': 543, 'haven': 544, 'having': 545, 'he': 546, 'head': 547, 'hear': 548, 'heard': 549, 'heart': 550, 'height': 551, 'her': 552, 'here': 553, 'hermit': 554, 'herself': 555, 'hesitations': 556, 'hide': 557, 'high': 558, 'him': 559, 'himself': 560, 'hint': 561, 'his': 562, 'history': 563, 'holding': 564, 'home': 565, 'honour': 566, 'hooded': 567, 'hostess': 568, 'hot': 569, 'hour': 570, 'hours': 571, 'house': 572, 'how': 573, 'humoured': 574, 'hung': 575, 'husband': 576, 'idea': 577, 'idle': 578, 'idling': 579, 'if': 580, 'immediately': 581, 'in': 582, 'incense': 583, 'indifferent': 584, 'inevitable': 585, 'inevitably': 586, 'inflexible': 587, 'insensible': 588, 'insignificant': 589, 'instinctively': 590, 'instructive': 591, 'interesting': 592, 'into': 593, 'ironic': 594, 'irony': 595, 'irrelevance': 596, 'irrevocable': 597, 'is': 598, 'it': 599, 'its': 600, 'itself': 601, 'jealousy': 602, 'just': 603, 'keep': 604, 'kept': 605, 'kind': 606, 'knees': 607, 'knew': 608, 'know': 609, 'known_': 610, 'laid': 611, 'lair': 612, 'landing': 613, 'language': 614, 'last': 615, 'late': 616, 'later': 617, 'latter': 618, 'laugh': 619, 'laughed': 620, 'lay': 621, 'leading': 622, 'lean': 623, 'learned': 624, 'least': 625, 'leathery': 626, 'leave': 627, 'led': 628, 'left': 629, 'leisure': 630, 'lends': 631, 'lent': 632, 'let': 633, 'lies': 634, 'life': 635, 'lift': 636, 'lifted': 637, 'light': 638, 'lightly': 639, 'like': 640, 'liked': 641, 'likeness': 642, 'line': 643, 'lines': 644, 'lingered': 645, 'lips': 646, 'lit': 647, 'little': 648, 'live': 649, 'll': 650, 'loathing': 651, 'long': 652, 'longed': 653, 'longer': 654, 'look': 655, 'looked': 656, 'looking': 657, 'lose': 658, 'loss': 659, 'lounging': 660, 'lovely': 661, 'lucky': 662, 'lump': 663, 'luncheon': 664, 'luxury': 665, 'lying': 666, 'made': 667, 'make': 668, 'man': 669, 'manage': 670, 'managed': 671, 'mantel': 672, 'marble': 673, 'married': 674, 'may': 675, 'me': 676, 'meant': 677, 'mechanically': 678, 'mediocrity': 679, 'medium': 680, 'mentioned': 681, 'mere': 682, 'merely': 683, 'met': 684, 'might': 685, 'mighty': 686, 'millionaire': 687, 'mine': 688, 'minute': 689, 'minutes': 690, 'mirrors': 691, 'modest': 692, 'modesty': 693, 'moment': 694, 'money': 695, 'monumental': 696, 'mood': 697, 'morbidly': 698, 'more': 699, 'most': 700, 'mourn': 701, 'mourned': 702, 'moustache': 703, 'moved': 704, 'much': 705, 'muddling': 706, 'multiplied': 707, 'murmur': 708, 'muscles': 709, 'must': 710, 'my': 711, 'myself': 712, 'mysterious': 713, 'naive': 714, 'near': 715, 'nearly': 716, 'negatived': 717, 'nervous': 718, 'nervousness': 719, 'neutral': 720, 'never': 721, 'next': 722, 'no': 723, 'none': 724, 'not': 725, 'note': 726, 'nothing': 727, 'now': 728, 'nymphs': 729, 'oak': 730, 'obituary': 731, 'object': 732, 'objects': 733, 'occurred': 734, 'oddly': 735, 'of': 736, 'off': 737, 'often': 738, 'oh': 739, 'old': 740, 'on': 741, 'once': 742, 'one': 743, 'ones': 744, 'only': 745, 'onto': 746, 'open': 747, 'or': 748, 'other': 749, 'our': 750, 'ourselves': 751, 'out': 752, 'outline': 753, 'oval': 754, 'over': 755, 'own': 756, 'packed': 757, 'paid': 758, 'paint': 759, 'painted': 760, 'painter': 761, 'painting': 762, 'pale': 763, 'paled': 764, 'palm': 765, 'panel': 766, 'panelled': 767, 'panelling': 768, 'pardonable': 769, 'pardoned': 770, 'part': 771, 'passages': 772, 'passing': 773, 'past': 774, 'pastels': 775, 'pathos': 776, 'patient': 777, 'people': 778, 'perceptible': 779, 'perfect': 780, 'persistence': 781, 'persuasively': 782, 'phrase': 783, 'picture': 784, 'pictures': 785, 'piece': 786, 'pines': 787, 'pink': 788, 'place': 789, 'placed': 790, 'plain': 791, 'platitudes': 792, 'pleased': 793, 'pockets': 794, 'point': 795, 'poised': 796, 'poor': 797, 'portrait': 798, 'posing': 799, 'possessed': 800, 'poverty': 801, 'predicted': 802, 'preliminary': 803, 'presenting': 804, 'presses': 805, 'prestidigitation': 806, 'pretty': 807, 'previous': 808, 'price': 809, 'pride': 810, 'princely': 811, 'prism': 812, 'problem': 813, 'proclaiming': 814, 'prodigious': 815, 'profusion': 816, 'protest': 817, 'prove': 818, 'public': 819, 'purblind': 820, 'purely': 821, 'pushed': 822, 'put': 823, 'qualities': 824, 'quality': 825, 'queerly': 826, 'question': 827, 'quickly': 828, 'quietly': 829, 'quite': 830, 'quote': 831, 'rain': 832, 'raised': 833, 'random': 834, 'rather': 835, 're': 836, 'real': 837, 'really': 838, 'reared': 839, 'reason': 840, 'reassurance': 841, 'recovering': 842, 'recreated': 843, 'reflected': 844, 'reflection': 845, 'regrets': 846, 'relatively': 847, 'remained': 848, 'remember': 849, 'reminded': 850, 'repeating': 851, 'represented': 852, 'reproduction': 853, 'resented': 854, 'resolve': 855, 'resources': 856, 'rest': 857, 'rich': 858, 'ridiculous': 859, 'robbed': 860, 'romantic': 861, 'room': 862, 'rooms': 863, 'rose': 864, 'rule': 865, 'run': 866, 's': 867, 'said': 868, 'same': 869, 'satisfaction': 870, 'savour': 871, 'saw': 872, 'say': 873, 'saying': 874, 'says': 875, 'scorn': 876, 'scornful': 877, 'secret': 878, 'see': 879, 'seemed': 880, 'seen': 881, 'self': 882, 'send': 883, 'sensation': 884, 'sensitive': 885, 'sent': 886, 'serious': 887, 'set': 888, 'sex': 889, 'shade': 890, 'shaking': 891, 'shall': 892, 'she': 893, 'shirked': 894, 'short': 895, 'should': 896, 'shoulder': 897, 'shoulders': 898, 'show': 899, 'showed': 900, 'showy': 901, 'shrug': 902, 'shrugged': 903, 'sight': 904, 'sign': 905, 'silent': 906, 'silver': 907, 'similar': 908, 'simpleton': 909, 'simplifications': 910, 'simply': 911, 'since': 912, 'single': 913, 'sitter': 914, 'sitters': 915, 'sketch': 916, 'skill': 917, 'slight': 918, 'slightly': 919, 'slowly': 920, 'small': 921, 'smile': 922, 'smiling': 923, 'sneer': 924, 'so': 925, 'solace': 926, 'some': 927, 'somebody': 928, 'something': 929, 'spacious': 930, 'spaniel': 931, 'speaking': 932, 'speculations': 933, 'spite': 934, 'splash': 935, 'square': 936, 'stairs': 937, 'stalk': 938, 'stammer': 939, 'stand': 940, 'standing': 941, 'started': 942, 'stay': 943, 'still': 944, 'stocked': 945, 'stood': 946, 'stopped': 947, 'stopping': 948, 'straddling': 949, 'straight': 950, 'strain': 951, 'straining': 952, 'strange': 953, 'straw': 954, 'stream': 955, 'stroke': 956, 'strokes': 957, 'strolled': 958, 'strongest': 959, 'strongly': 960, 'struck': 961, 'studio': 962, 'stuff': 963, 'subject': 964, 'substantial': 965, 'suburban': 966, 'such': 967, 'suddenly': 968, 'suffered': 969, 'sugar': 970, 'suggested': 971, 'sunburn': 972, 'sunburnt': 973, 'sunlit': 974, 'superb': 975, 'sure': 976, 'surest': 977, 'surface': 978, 'surprise': 979, 'surprised': 980, 'surrounded': 981, 'suspected': 982, 'sweetly': 983, 'sweetness': 984, 'swelling': 985, 'swept': 986, 'swum': 987, 't': 988, 'table': 989, 'take': 990, 'taken': 991, 'talking': 992, 'tea': 993, 'tears': 994, 'technicalities': 995, 'technique': 996, 'tell': 997, 'tells': 998, 'tempting': 999, 'terra': 1000, 'terrace': 1001, 'terraces': 1002, 'terribly': 1003, 'than': 1004, 'that': 1005, 'the': 1006, 'their': 1007, 'them': 1008, 'then': 1009, 'there': 1010, 'therefore': 1011, 'they': 1012, 'thin': 1013, 'thing': 1014, 'things': 1015, 'think': 1016, 'this': 1017, 'thither': 1018, 'those': 1019, 'though': 1020, 'thought': 1021, 'three': 1022, 'threshold': 1023, 'threw': 1024, 'through': 1025, 'throwing': 1026, 'tie': 1027, 'till': 1028, 'time': 1029, 'timorously': 1030, 'tinge': 1031, 'tips': 1032, 'tired': 1033, 'to': 1034, 'told': 1035, 'tone': 1036, 'tones': 1037, 'too': 1038, 'took': 1039, 'tottering': 1040, 'touched': 1041, 'toward': 1042, 'trace': 1043, 'trade': 1044, 'transmute': 1045, 'traps': 1046, 'travelled': 1047, 'trees': 1048, 'tribute': 1049, 'tributes': 1050, 'tricks': 1051, 'tried': 1052, 'trouser': 1053, 'true': 1054, 'truth': 1055, 'tubes': 1056, 'turned': 1057, 'twenty': 1058, 'twice': 1059, 'twirling': 1060, 'unaccountable': 1061, 'uncertain': 1062, 'under': 1063, 'underlay': 1064, 'underneath': 1065, 'understand': 1066, 'unexpected': 1067, 'untouched': 1068, 'unusual': 1069, 'up': 1070, 'upon': 1071, 'upset': 1072, 'upstairs': 1073, 'us': 1074, 'used': 1075, 'usual': 1076, 'value': 1077, 'varnishing': 1078, 'vases': 1079, 've': 1080, 'veins': 1081, 'velveteen': 1082, 'verte_': 1083, 'very': 1084, 'villa': 1085, 'vindicated': 1086, 'virtuosity': 1087, 'vista': 1088, 'vocation': 1089, 'voice': 1090, 'wall': 1091, 'wander': 1092, 'want': 1093, 'wanted': 1094, 'wants': 1095, 'was': 1096, 'wasn': 1097, 'watched': 1098, 'watching': 1099, 'water': 1100, 'waves': 1101, 'way': 1102, 'weekly': 1103, 'weeks': 1104, 'welcome': 1105, 'went': 1106, 'were': 1107, 'what': 1108, 'when': 1109, 'whenever': 1110, 'where': 1111, 'which': 1112, 'while': 1113, 'white': 1114, 'who': 1115, 'whole': 1116, 'whom': 1117, 'why': 1118, 'wide': 1119, 'widow': 1120, 'wife': 1121, 'wild': 1122, 'wincing': 1123, 'window': 1124, 'wish': 1125, 'with': 1126, 'without': 1127, 'wits': 1128, 'woman': 1129, 'women': 1130, 'won': 1131, 'wonder': 1132, 'wondered': 1133, 'word': 1134, 'work': 1135, 'working': 1136, 'worth': 1137, 'would': 1138, 'wouldn': 1139, 'year': 1140, 'years': 1141, 'yellow': 1142, 'yet': 1143, 'you': 1144, 'younger': 1145, 'your': 1146, 'yourself': 1147, '<|endoftext|>': 1148, '<|unk|>': 1149}\n"
     ]
    }
   ],
   "source": [
    "# create a vocabulary\n",
    "# assign an integer to each token\n",
    "vocab = {token: i for i, token in enumerate(tokens)}\n",
    "\n",
    "print(\"vocab:\", vocab)"
   ]
  },
  {
   "cell_type": "code",
   "execution_count": 5,
   "id": "1e6e35a7",
   "metadata": {},
   "outputs": [
    {
     "name": "stdout",
     "output_type": "stream",
     "text": [
      "decoded_vocab: {0: '!', 1: '\"', 2: \"'\", 3: '(', 4: ')', 5: ',', 6: '-', 7: '.', 8: ':', 9: ';', 10: '?', 11: 'A', 12: 'Ah', 13: 'Among', 14: 'And', 15: 'Are', 16: 'Arrt', 17: 'As', 18: 'At', 19: 'Be', 20: 'Begin', 21: 'Burlington', 22: 'But', 23: 'By', 24: 'Carlo', 25: 'Chicago', 26: 'Claude', 27: 'Come', 28: 'Croft', 29: 'Destroyed', 30: 'Devonshire', 31: 'Don', 32: 'Dubarry_', 33: 'Emperors', 34: 'Florence', 35: 'For', 36: 'Gallery', 37: 'Gideon', 38: 'Gisburn', 39: 'Gisburns', 40: 'Grafton', 41: 'Greek', 42: 'Grindle', 43: 'Grindles', 44: 'HAD', 45: 'Had', 46: 'Hang', 47: 'Has', 48: 'He', 49: 'Her', 50: 'Hermia', 51: 'His', 52: 'How', 53: 'I', 54: 'If', 55: 'In', 56: 'It', 57: 'Jack', 58: 'Jove', 59: 'Just', 60: 'Lord', 61: 'Made', 62: 'Miss', 63: 'Money', 64: 'Monte', 65: 'Moon', 66: 'Mr', 67: 'Mrs', 68: 'My', 69: 'Never', 70: 'No', 71: 'Now', 72: 'Nutley', 73: 'Of', 74: 'Oh', 75: 'On', 76: 'Once', 77: 'Only', 78: 'Or', 79: 'Perhaps', 80: 'Poor', 81: 'Professional', 82: 'Renaissance', 83: 'Rickham', 84: 'Riviera', 85: 'Rome', 86: 'Russian', 87: 'Sevres', 88: 'She', 89: 'Stroud', 90: 'Strouds', 91: 'Suddenly', 92: 'That', 93: 'The', 94: 'Then', 95: 'There', 96: 'They', 97: 'This', 98: 'Those', 99: 'Though', 100: 'Thwing', 101: 'Thwings', 102: 'To', 103: 'Usually', 104: 'Venetian', 105: 'Victor', 106: 'Was', 107: 'We', 108: 'Well', 109: 'What', 110: 'When', 111: 'Why', 112: 'Yes', 113: 'You', 114: '_I', 115: '_am_', 116: '_famille', 117: '_felt_', 118: '_has_', 119: '_have_', 120: '_jardiniere_', 121: '_mine_', 122: '_not_', 123: '_rose', 124: '_rs_', 125: '_that_', 126: '_the_', 127: '_was_', 128: '_were_', 129: 'a', 130: 'abdication', 131: 'able', 132: 'about', 133: 'above', 134: 'abruptly', 135: 'absolute', 136: 'absorbed', 137: 'absurdity', 138: 'academic', 139: 'accuse', 140: 'accustomed', 141: 'across', 142: 'activity', 143: 'add', 144: 'added', 145: 'admirers', 146: 'adopted', 147: 'adulation', 148: 'advance', 149: 'aesthetic', 150: 'affect', 151: 'afraid', 152: 'after', 153: 'afterward', 154: 'again', 155: 'ago', 156: 'ah', 157: 'air', 158: 'alive', 159: 'all', 160: 'almost', 161: 'alone', 162: 'along', 163: 'always', 164: 'amazement', 165: 'amid', 166: 'among', 167: 'amplest', 168: 'amusing', 169: 'an', 170: 'and', 171: 'another', 172: 'answer', 173: 'answered', 174: 'any', 175: 'anything', 176: 'anywhere', 177: 'apparent', 178: 'apparently', 179: 'appearance', 180: 'appeared', 181: 'appointed', 182: 'are', 183: 'arm', 184: 'arms', 185: 'art', 186: 'articles', 187: 'artist', 188: 'as', 189: 'aside', 190: 'asked', 191: 'at', 192: 'atmosphere', 193: 'atom', 194: 'attack', 195: 'attention', 196: 'attitude', 197: 'audacities', 198: 'away', 199: 'awful', 200: 'axioms', 201: 'azaleas', 202: 'back', 203: 'background', 204: 'balance', 205: 'balancing', 206: 'balustraded', 207: 'basking', 208: 'bath', 209: 'be', 210: 'beaming', 211: 'bean', 212: 'bear', 213: 'beard', 214: 'beauty', 215: 'became', 216: 'because', 217: 'becoming', 218: 'bed', 219: 'been', 220: 'before', 221: 'began', 222: 'begun', 223: 'behind', 224: 'being', 225: 'believed', 226: 'beneath', 227: 'bespoke', 228: 'better', 229: 'between', 230: 'big', 231: 'bits', 232: 'bitterness', 233: 'blocked', 234: 'born', 235: 'borne', 236: 'boudoir', 237: 'brac', 238: 'bravura', 239: 'break', 240: 'breaking', 241: 'breathing', 242: 'breeding', 243: 'bric', 244: 'briefly', 245: 'brings', 246: 'bronzes', 247: 'brought', 248: 'brown', 249: 'brush', 250: 'bull', 251: 'business', 252: 'but', 253: 'buying', 254: 'by', 255: 'called', 256: 'came', 257: 'can', 258: 'canvas', 259: 'canvases', 260: 'cards', 261: 'care', 262: 'career', 263: 'caught', 264: 'central', 265: 'century', 266: 'chair', 267: 'chairs', 268: 'chap', 269: 'characteristic', 270: 'charming', 271: 'cheap', 272: 'check', 273: 'cheeks', 274: 'chest', 275: 'chimney', 276: 'chucked', 277: 'cigar', 278: 'cigarette', 279: 'cigars', 280: 'circulation', 281: 'circumstance', 282: 'circus', 283: 'claimed', 284: 'clasping', 285: 'clear', 286: 'cleverer', 287: 'close', 288: 'closets', 289: 'clown', 290: 'clue', 291: 'coat', 292: 'collapsed', 293: 'colour', 294: 'come', 295: 'comfortable', 296: 'coming', 297: 'companion', 298: 'compared', 299: 'complex', 300: 'confident', 301: 'congesting', 302: 'conjugal', 303: 'constraint', 304: 'consummate', 305: 'contended', 306: 'continued', 307: 'corner', 308: 'corrected', 309: 'cotta', 310: 'could', 311: 'couldn', 312: 'count', 313: 'countenance', 314: 'couple', 315: 'course', 316: 'covered', 317: 'craft', 318: 'cried', 319: 'crossed', 320: 'crowned', 321: 'crumbled', 322: 'cry', 323: 'cured', 324: 'curiosity', 325: 'curious', 326: 'current', 327: 'curtains', 328: 'd', 329: 'dabble', 330: 'damask', 331: 'dancers', 332: 'dark', 333: 'dashed', 334: 'day', 335: 'days', 336: 'dead', 337: 'deadening', 338: 'dear', 339: 'deep', 340: 'deerhound', 341: 'degree', 342: 'delicate', 343: 'demand', 344: 'denied', 345: 'deploring', 346: 'deprecating', 347: 'deprecatingly', 348: 'desire', 349: 'destroyed', 350: 'destruction', 351: 'desultory', 352: 'detail', 353: 'diagnosis', 354: 'did', 355: 'didn', 356: 'died', 357: 'dim', 358: 'dimmest', 359: 'dingy', 360: 'dining', 361: 'disarming', 362: 'discovery', 363: 'discrimination', 364: 'discussion', 365: 'disdain', 366: 'disdained', 367: 'disease', 368: 'disguised', 369: 'display', 370: 'dissatisfied', 371: 'distinguished', 372: 'distract', 373: 'divert', 374: 'do', 375: 'doesn', 376: 'doing', 377: 'domestic', 378: 'don', 379: 'done', 380: 'donkey', 381: 'down', 382: 'dozen', 383: 'dragged', 384: 'drawing', 385: 'drawn', 386: 'dress', 387: 'drew', 388: 'dropped', 389: 'each', 390: 'earth', 391: 'ease', 392: 'easel', 393: 'easy', 394: 'echoed', 395: 'economy', 396: 'effect', 397: 'effects', 398: 'efforts', 399: 'egregious', 400: 'eighteenth', 401: 'elbow', 402: 'elegant', 403: 'else', 404: 'embarrassed', 405: 'enabled', 406: 'end', 407: 'endless', 408: 'enjoy', 409: 'enlightenment', 410: 'enough', 411: 'ensuing', 412: 'equally', 413: 'equanimity', 414: 'escape', 415: 'established', 416: 'etching', 417: 'even', 418: 'event', 419: 'ever', 420: 'everlasting', 421: 'every', 422: 'exasperated', 423: 'except', 424: 'excuse', 425: 'excusing', 426: 'existed', 427: 'expected', 428: 'exquisite', 429: 'exquisitely', 430: 'extenuation', 431: 'exterminating', 432: 'extracting', 433: 'eye', 434: 'eyebrows', 435: 'eyes', 436: 'face', 437: 'faces', 438: 'fact', 439: 'faded', 440: 'failed', 441: 'failure', 442: 'fair', 443: 'faith', 444: 'false', 445: 'familiar', 446: 'fancy', 447: 'fashionable', 448: 'fate', 449: 'feather', 450: 'feet', 451: 'fell', 452: 'fellow', 453: 'felt', 454: 'few', 455: 'fewer', 456: 'finality', 457: 'find', 458: 'fingers', 459: 'first', 460: 'fit', 461: 'fitting', 462: 'five', 463: 'flash', 464: 'flashed', 465: 'florid', 466: 'flowers', 467: 'fluently', 468: 'flung', 469: 'follow', 470: 'followed', 471: 'fond', 472: 'footstep', 473: 'for', 474: 'forced', 475: 'forcing', 476: 'forehead', 477: 'foreign', 478: 'foreseen', 479: 'forgive', 480: 'forgotten', 481: 'form', 482: 'formed', 483: 'forming', 484: 'forward', 485: 'fostered', 486: 'found', 487: 'foundations', 488: 'four', 489: 'fragment', 490: 'fragments', 491: 'frame', 492: 'frames', 493: 'frequently', 494: 'friend', 495: 'from', 496: 'full', 497: 'fullest', 498: 'furiously', 499: 'furrowed', 500: 'garlanded', 501: 'garlands', 502: 'gave', 503: 'genial', 504: 'genius', 505: 'gesture', 506: 'get', 507: 'getting', 508: 'give', 509: 'given', 510: 'glad', 511: 'glanced', 512: 'glimpse', 513: 'gloried', 514: 'glory', 515: 'go', 516: 'going', 517: 'gone', 518: 'good', 519: 'got', 520: 'grace', 521: 'gradually', 522: 'gray', 523: 'grayish', 524: 'great', 525: 'greatest', 526: 'greatness', 527: 'grew', 528: 'groping', 529: 'growing', 530: 'had', 531: 'hadn', 532: 'hair', 533: 'half', 534: 'hall', 535: 'hand', 536: 'hands', 537: 'handsome', 538: 'hanging', 539: 'happen', 540: 'happened', 541: 'hard', 542: 'hardly', 543: 'have', 544: 'haven', 545: 'having', 546: 'he', 547: 'head', 548: 'hear', 549: 'heard', 550: 'heart', 551: 'height', 552: 'her', 553: 'here', 554: 'hermit', 555: 'herself', 556: 'hesitations', 557: 'hide', 558: 'high', 559: 'him', 560: 'himself', 561: 'hint', 562: 'his', 563: 'history', 564: 'holding', 565: 'home', 566: 'honour', 567: 'hooded', 568: 'hostess', 569: 'hot', 570: 'hour', 571: 'hours', 572: 'house', 573: 'how', 574: 'humoured', 575: 'hung', 576: 'husband', 577: 'idea', 578: 'idle', 579: 'idling', 580: 'if', 581: 'immediately', 582: 'in', 583: 'incense', 584: 'indifferent', 585: 'inevitable', 586: 'inevitably', 587: 'inflexible', 588: 'insensible', 589: 'insignificant', 590: 'instinctively', 591: 'instructive', 592: 'interesting', 593: 'into', 594: 'ironic', 595: 'irony', 596: 'irrelevance', 597: 'irrevocable', 598: 'is', 599: 'it', 600: 'its', 601: 'itself', 602: 'jealousy', 603: 'just', 604: 'keep', 605: 'kept', 606: 'kind', 607: 'knees', 608: 'knew', 609: 'know', 610: 'known_', 611: 'laid', 612: 'lair', 613: 'landing', 614: 'language', 615: 'last', 616: 'late', 617: 'later', 618: 'latter', 619: 'laugh', 620: 'laughed', 621: 'lay', 622: 'leading', 623: 'lean', 624: 'learned', 625: 'least', 626: 'leathery', 627: 'leave', 628: 'led', 629: 'left', 630: 'leisure', 631: 'lends', 632: 'lent', 633: 'let', 634: 'lies', 635: 'life', 636: 'lift', 637: 'lifted', 638: 'light', 639: 'lightly', 640: 'like', 641: 'liked', 642: 'likeness', 643: 'line', 644: 'lines', 645: 'lingered', 646: 'lips', 647: 'lit', 648: 'little', 649: 'live', 650: 'll', 651: 'loathing', 652: 'long', 653: 'longed', 654: 'longer', 655: 'look', 656: 'looked', 657: 'looking', 658: 'lose', 659: 'loss', 660: 'lounging', 661: 'lovely', 662: 'lucky', 663: 'lump', 664: 'luncheon', 665: 'luxury', 666: 'lying', 667: 'made', 668: 'make', 669: 'man', 670: 'manage', 671: 'managed', 672: 'mantel', 673: 'marble', 674: 'married', 675: 'may', 676: 'me', 677: 'meant', 678: 'mechanically', 679: 'mediocrity', 680: 'medium', 681: 'mentioned', 682: 'mere', 683: 'merely', 684: 'met', 685: 'might', 686: 'mighty', 687: 'millionaire', 688: 'mine', 689: 'minute', 690: 'minutes', 691: 'mirrors', 692: 'modest', 693: 'modesty', 694: 'moment', 695: 'money', 696: 'monumental', 697: 'mood', 698: 'morbidly', 699: 'more', 700: 'most', 701: 'mourn', 702: 'mourned', 703: 'moustache', 704: 'moved', 705: 'much', 706: 'muddling', 707: 'multiplied', 708: 'murmur', 709: 'muscles', 710: 'must', 711: 'my', 712: 'myself', 713: 'mysterious', 714: 'naive', 715: 'near', 716: 'nearly', 717: 'negatived', 718: 'nervous', 719: 'nervousness', 720: 'neutral', 721: 'never', 722: 'next', 723: 'no', 724: 'none', 725: 'not', 726: 'note', 727: 'nothing', 728: 'now', 729: 'nymphs', 730: 'oak', 731: 'obituary', 732: 'object', 733: 'objects', 734: 'occurred', 735: 'oddly', 736: 'of', 737: 'off', 738: 'often', 739: 'oh', 740: 'old', 741: 'on', 742: 'once', 743: 'one', 744: 'ones', 745: 'only', 746: 'onto', 747: 'open', 748: 'or', 749: 'other', 750: 'our', 751: 'ourselves', 752: 'out', 753: 'outline', 754: 'oval', 755: 'over', 756: 'own', 757: 'packed', 758: 'paid', 759: 'paint', 760: 'painted', 761: 'painter', 762: 'painting', 763: 'pale', 764: 'paled', 765: 'palm', 766: 'panel', 767: 'panelled', 768: 'panelling', 769: 'pardonable', 770: 'pardoned', 771: 'part', 772: 'passages', 773: 'passing', 774: 'past', 775: 'pastels', 776: 'pathos', 777: 'patient', 778: 'people', 779: 'perceptible', 780: 'perfect', 781: 'persistence', 782: 'persuasively', 783: 'phrase', 784: 'picture', 785: 'pictures', 786: 'piece', 787: 'pines', 788: 'pink', 789: 'place', 790: 'placed', 791: 'plain', 792: 'platitudes', 793: 'pleased', 794: 'pockets', 795: 'point', 796: 'poised', 797: 'poor', 798: 'portrait', 799: 'posing', 800: 'possessed', 801: 'poverty', 802: 'predicted', 803: 'preliminary', 804: 'presenting', 805: 'presses', 806: 'prestidigitation', 807: 'pretty', 808: 'previous', 809: 'price', 810: 'pride', 811: 'princely', 812: 'prism', 813: 'problem', 814: 'proclaiming', 815: 'prodigious', 816: 'profusion', 817: 'protest', 818: 'prove', 819: 'public', 820: 'purblind', 821: 'purely', 822: 'pushed', 823: 'put', 824: 'qualities', 825: 'quality', 826: 'queerly', 827: 'question', 828: 'quickly', 829: 'quietly', 830: 'quite', 831: 'quote', 832: 'rain', 833: 'raised', 834: 'random', 835: 'rather', 836: 're', 837: 'real', 838: 'really', 839: 'reared', 840: 'reason', 841: 'reassurance', 842: 'recovering', 843: 'recreated', 844: 'reflected', 845: 'reflection', 846: 'regrets', 847: 'relatively', 848: 'remained', 849: 'remember', 850: 'reminded', 851: 'repeating', 852: 'represented', 853: 'reproduction', 854: 'resented', 855: 'resolve', 856: 'resources', 857: 'rest', 858: 'rich', 859: 'ridiculous', 860: 'robbed', 861: 'romantic', 862: 'room', 863: 'rooms', 864: 'rose', 865: 'rule', 866: 'run', 867: 's', 868: 'said', 869: 'same', 870: 'satisfaction', 871: 'savour', 872: 'saw', 873: 'say', 874: 'saying', 875: 'says', 876: 'scorn', 877: 'scornful', 878: 'secret', 879: 'see', 880: 'seemed', 881: 'seen', 882: 'self', 883: 'send', 884: 'sensation', 885: 'sensitive', 886: 'sent', 887: 'serious', 888: 'set', 889: 'sex', 890: 'shade', 891: 'shaking', 892: 'shall', 893: 'she', 894: 'shirked', 895: 'short', 896: 'should', 897: 'shoulder', 898: 'shoulders', 899: 'show', 900: 'showed', 901: 'showy', 902: 'shrug', 903: 'shrugged', 904: 'sight', 905: 'sign', 906: 'silent', 907: 'silver', 908: 'similar', 909: 'simpleton', 910: 'simplifications', 911: 'simply', 912: 'since', 913: 'single', 914: 'sitter', 915: 'sitters', 916: 'sketch', 917: 'skill', 918: 'slight', 919: 'slightly', 920: 'slowly', 921: 'small', 922: 'smile', 923: 'smiling', 924: 'sneer', 925: 'so', 926: 'solace', 927: 'some', 928: 'somebody', 929: 'something', 930: 'spacious', 931: 'spaniel', 932: 'speaking', 933: 'speculations', 934: 'spite', 935: 'splash', 936: 'square', 937: 'stairs', 938: 'stalk', 939: 'stammer', 940: 'stand', 941: 'standing', 942: 'started', 943: 'stay', 944: 'still', 945: 'stocked', 946: 'stood', 947: 'stopped', 948: 'stopping', 949: 'straddling', 950: 'straight', 951: 'strain', 952: 'straining', 953: 'strange', 954: 'straw', 955: 'stream', 956: 'stroke', 957: 'strokes', 958: 'strolled', 959: 'strongest', 960: 'strongly', 961: 'struck', 962: 'studio', 963: 'stuff', 964: 'subject', 965: 'substantial', 966: 'suburban', 967: 'such', 968: 'suddenly', 969: 'suffered', 970: 'sugar', 971: 'suggested', 972: 'sunburn', 973: 'sunburnt', 974: 'sunlit', 975: 'superb', 976: 'sure', 977: 'surest', 978: 'surface', 979: 'surprise', 980: 'surprised', 981: 'surrounded', 982: 'suspected', 983: 'sweetly', 984: 'sweetness', 985: 'swelling', 986: 'swept', 987: 'swum', 988: 't', 989: 'table', 990: 'take', 991: 'taken', 992: 'talking', 993: 'tea', 994: 'tears', 995: 'technicalities', 996: 'technique', 997: 'tell', 998: 'tells', 999: 'tempting', 1000: 'terra', 1001: 'terrace', 1002: 'terraces', 1003: 'terribly', 1004: 'than', 1005: 'that', 1006: 'the', 1007: 'their', 1008: 'them', 1009: 'then', 1010: 'there', 1011: 'therefore', 1012: 'they', 1013: 'thin', 1014: 'thing', 1015: 'things', 1016: 'think', 1017: 'this', 1018: 'thither', 1019: 'those', 1020: 'though', 1021: 'thought', 1022: 'three', 1023: 'threshold', 1024: 'threw', 1025: 'through', 1026: 'throwing', 1027: 'tie', 1028: 'till', 1029: 'time', 1030: 'timorously', 1031: 'tinge', 1032: 'tips', 1033: 'tired', 1034: 'to', 1035: 'told', 1036: 'tone', 1037: 'tones', 1038: 'too', 1039: 'took', 1040: 'tottering', 1041: 'touched', 1042: 'toward', 1043: 'trace', 1044: 'trade', 1045: 'transmute', 1046: 'traps', 1047: 'travelled', 1048: 'trees', 1049: 'tribute', 1050: 'tributes', 1051: 'tricks', 1052: 'tried', 1053: 'trouser', 1054: 'true', 1055: 'truth', 1056: 'tubes', 1057: 'turned', 1058: 'twenty', 1059: 'twice', 1060: 'twirling', 1061: 'unaccountable', 1062: 'uncertain', 1063: 'under', 1064: 'underlay', 1065: 'underneath', 1066: 'understand', 1067: 'unexpected', 1068: 'untouched', 1069: 'unusual', 1070: 'up', 1071: 'upon', 1072: 'upset', 1073: 'upstairs', 1074: 'us', 1075: 'used', 1076: 'usual', 1077: 'value', 1078: 'varnishing', 1079: 'vases', 1080: 've', 1081: 'veins', 1082: 'velveteen', 1083: 'verte_', 1084: 'very', 1085: 'villa', 1086: 'vindicated', 1087: 'virtuosity', 1088: 'vista', 1089: 'vocation', 1090: 'voice', 1091: 'wall', 1092: 'wander', 1093: 'want', 1094: 'wanted', 1095: 'wants', 1096: 'was', 1097: 'wasn', 1098: 'watched', 1099: 'watching', 1100: 'water', 1101: 'waves', 1102: 'way', 1103: 'weekly', 1104: 'weeks', 1105: 'welcome', 1106: 'went', 1107: 'were', 1108: 'what', 1109: 'when', 1110: 'whenever', 1111: 'where', 1112: 'which', 1113: 'while', 1114: 'white', 1115: 'who', 1116: 'whole', 1117: 'whom', 1118: 'why', 1119: 'wide', 1120: 'widow', 1121: 'wife', 1122: 'wild', 1123: 'wincing', 1124: 'window', 1125: 'wish', 1126: 'with', 1127: 'without', 1128: 'wits', 1129: 'woman', 1130: 'women', 1131: 'won', 1132: 'wonder', 1133: 'wondered', 1134: 'word', 1135: 'work', 1136: 'working', 1137: 'worth', 1138: 'would', 1139: 'wouldn', 1140: 'year', 1141: 'years', 1142: 'yellow', 1143: 'yet', 1144: 'you', 1145: 'younger', 1146: 'your', 1147: 'yourself', 1148: '<|endoftext|>', 1149: '<|unk|>'}\n"
     ]
    }
   ],
   "source": [
    "# decoder \n",
    "decoded_vocab  = {i: token for token, i in vocab.items()}\n",
    "\n",
    "print(\"decoded_vocab:\", decoded_vocab)\n"
   ]
  },
  {
   "cell_type": "code",
   "execution_count": null,
   "id": "d29dea93",
   "metadata": {},
   "outputs": [
    {
     "name": "stdout",
     "output_type": "stream",
     "text": [
      "tokenizer.encode(test_sentence): [53, 2, 1080, 1149, 762, 778, 378, 2, 988, 873, 1005, 963, 132, 676, 6, 6, 1012, 873, 599, 132, 105, 42, 5, 1]\n",
      "tokenizer.decode(tokenizer.encode(test_sentence)): I' ve<|unk|> painting people don' t say that stuff about me--they say it about Victor Grindle,\"\n"
     ]
    }
   ],
   "source": [
    "# create a tokenizer class that has encode and decode method\n",
    "\n",
    "class SimpleTokenizerV1:\n",
    "    def __init__(self, vocab):\n",
    "        self.vocab = vocab\n",
    "        self.decoded_vocab = {i: token for token, i in vocab.items()}\n",
    "\n",
    "    def encode(self, text):\n",
    "        # preprocess \n",
    "        tokens = re.findall(r'\\b\\w+\\b|[^\\w\\s]', text, re.UNICODE)  \n",
    "\n",
    "        # handle unknown tokens\n",
    "        tokens = [token if token in self.vocab else \"<|unk|>\" for token in tokens]\n",
    "        return [self.vocab[token] for token in tokens]\n",
    "\n",
    "    def decode(self, tokens):\n",
    "        decoded_text = ' '.join([self.decoded_vocab[token] for token in tokens])\n",
    "        # remove spaces before punctuation\n",
    "        decoded_text = re.sub(r'\\s([^\\w\\s])', r'\\1', decoded_text)\n",
    "\n",
    "        # only for before and after hypen, palm- trees; should be palm-trees\n",
    "        # it should work for `, `, `-`, `'`\n",
    "        decoded_text = re.sub(r'- ', r'-', decoded_text)\n",
    "        return decoded_text\n",
    "\n",
    "tokenizer = SimpleTokenizerV1(vocab)\n",
    "\n",
    "test_sentence = \"I've hello painting people don't say that stuff about me--they say it about Victor Grindle,\\\"\"\n",
    "\n",
    "print(\"tokenizer.encode(test_sentence):\", tokenizer.encode(test_sentence))\n",
    "print(\"tokenizer.decode(tokenizer.encode(test_sentence)):\", tokenizer.decode(tokenizer.encode(test_sentence)))\n",
    "\n"
   ]
  },
  {
   "cell_type": "code",
   "execution_count": 9,
   "id": "802cda99",
   "metadata": {},
   "outputs": [
    {
     "name": "stdout",
     "output_type": "stream",
     "text": [
      "Collecting tiktoken\n",
      "  Downloading tiktoken-0.11.0-cp312-cp312-macosx_11_0_arm64.whl.metadata (6.7 kB)\n",
      "Requirement already satisfied: regex>=2022.1.18 in /opt/homebrew/anaconda3/lib/python3.12/site-packages (from tiktoken) (2024.9.11)\n",
      "Requirement already satisfied: requests>=2.26.0 in /opt/homebrew/anaconda3/lib/python3.12/site-packages (from tiktoken) (2.32.3)\n",
      "Requirement already satisfied: charset-normalizer<4,>=2 in /opt/homebrew/anaconda3/lib/python3.12/site-packages (from requests>=2.26.0->tiktoken) (3.3.2)\n",
      "Requirement already satisfied: idna<4,>=2.5 in /opt/homebrew/anaconda3/lib/python3.12/site-packages (from requests>=2.26.0->tiktoken) (3.7)\n",
      "Requirement already satisfied: urllib3<3,>=1.21.1 in /opt/homebrew/anaconda3/lib/python3.12/site-packages (from requests>=2.26.0->tiktoken) (2.2.3)\n",
      "Requirement already satisfied: certifi>=2017.4.17 in /opt/homebrew/anaconda3/lib/python3.12/site-packages (from requests>=2.26.0->tiktoken) (2024.8.30)\n",
      "Downloading tiktoken-0.11.0-cp312-cp312-macosx_11_0_arm64.whl (996 kB)\n",
      "\u001b[2K   \u001b[90m━━━━━━━━━━━━━━━━━━━━━━━━━━━━━━━━━━━━━━━━\u001b[0m \u001b[32m996.7/996.7 kB\u001b[0m \u001b[31m16.1 MB/s\u001b[0m eta \u001b[36m0:00:00\u001b[0m\n",
      "\u001b[?25hInstalling collected packages: tiktoken\n",
      "Successfully installed tiktoken-0.11.0\n"
     ]
    }
   ],
   "source": [
    "# byte pair encoding\n",
    "!pip3 install tiktoken"
   ]
  },
  {
   "cell_type": "code",
   "execution_count": 14,
   "id": "f0bed633",
   "metadata": {},
   "outputs": [
    {
     "name": "stdout",
     "output_type": "stream",
     "text": [
      "50257\n",
      "[15496, 11, 995, 0, 220, 50256, 770, 318, 257, 1332, 13, 220, 50256, 770, 318, 1194, 1332, 13, 617, 34680, 4775]\n",
      "Hello, world! <|endoftext|> This is a test. <|endoftext|> This is another test. someunknownword\n"
     ]
    }
   ],
   "source": [
    "import tiktoken\n",
    "\n",
    "tokenizer = tiktoken.get_encoding(\"gpt2\")\n",
    "\n",
    "print(tokenizer.n_vocab)\n",
    "\n",
    "\n",
    "# sample text keep <|endoftext|> in between large sentences\n",
    "sample_text = \"Hello, world! <|endoftext|> This is a test. <|endoftext|> This is another test. someunknownword\"\n",
    "\n",
    "# encode the sample text\n",
    "tokens = tokenizer.encode(sample_text, allowed_special={\"<|endoftext|>\"})\n",
    "\n",
    "print(tokens)\n",
    "\n",
    "\n",
    "# decode the tokens\n",
    "decoded_text = tokenizer.decode(tokens)\n",
    "\n",
    "print(decoded_text)\n",
    "\n",
    "\n",
    "\n"
   ]
  },
  {
   "cell_type": "code",
   "execution_count": 21,
   "id": "e38b29d9",
   "metadata": {},
   "outputs": [
    {
     "name": "stdout",
     "output_type": "stream",
     "text": [
      "tokenizer.encode(test_sentence): [40, 1053, 23748, 12036, 661, 836, 470, 264, 42012, 326, 3404, 546, 502, 438, 9930, 910, 340, 546, 12622, 41379, 293, 479, 343, 272, 11, 10662, 86, 69, 80, 86, 69, 80, 732, 69, 20306, 303, 732, 1]\n",
      "tokenizer.decode(tokenizer.encode(test_sentence)): I've hello painting people don't sAy that stuff about me--they say it about Victor Grindle kiran, qwfqwfqwefvdvewe\"\n"
     ]
    }
   ],
   "source": [
    "import tiktoken\n",
    "\n",
    "class SimpleTokenizerV2:\n",
    "    def __init__(self, vocab):\n",
    "        self.tokenizer = tiktoken.get_encoding(\"gpt2\")\n",
    "\n",
    "    def encode(self, text):\n",
    "        return self.tokenizer.encode(text, allowed_special={\"<|endoftext|>\"})\n",
    "    \n",
    "    def decode(self, tokens):\n",
    "        return self.tokenizer.decode(tokens)\n",
    "\n",
    "tokenizer = SimpleTokenizerV2(vocab)\n",
    "\n",
    "# test the tokenizer\n",
    "test_sentence = \"I've hello painting people don't sAy that stuff about me--they say it about Victor Grindle kiran, qwfqwfqwefvdvewe\\\"\"\n",
    "\n",
    "print(\"tokenizer.encode(test_sentence):\", tokenizer.encode(test_sentence))\n",
    "print(\"tokenizer.decode(tokenizer.encode(test_sentence)):\", tokenizer.decode(tokenizer.encode(test_sentence)))\n",
    "\n"
   ]
  }
 ],
 "metadata": {
  "kernelspec": {
   "display_name": "base",
   "language": "python",
   "name": "python3"
  },
  "language_info": {
   "codemirror_mode": {
    "name": "ipython",
    "version": 3
   },
   "file_extension": ".py",
   "mimetype": "text/x-python",
   "name": "python",
   "nbconvert_exporter": "python",
   "pygments_lexer": "ipython3",
   "version": "3.12.7"
  }
 },
 "nbformat": 4,
 "nbformat_minor": 5
}
